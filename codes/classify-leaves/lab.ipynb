{
 "cells": [
  {
   "cell_type": "code",
   "execution_count": 29,
   "metadata": {
    "collapsed": true
   },
   "outputs": [
    {
     "name": "stdout",
     "output_type": "stream",
     "text": [
      "The autoreload extension is already loaded. To reload it, use:\n",
      "  %reload_ext autoreload\n"
     ]
    }
   ],
   "source": [
    "import os.path\n",
    "import time\n",
    "\n",
    "import pandas as pd\n",
    "import torch\n",
    "%load_ext autoreload\n",
    "%autoreload 2\n",
    "from utils import *\n",
    "from lib.utils import *\n",
    "from torchvision import transforms\n",
    "import torch.nn.functional as F\n",
    "from model_def import *\n",
    "import matplotlib\n",
    "import matplotlib.pyplot as plt\n",
    "import time"
   ]
  },
  {
   "cell_type": "code",
   "execution_count": 10,
   "outputs": [
    {
     "name": "stderr",
     "output_type": "stream",
     "text": [
      "\n",
      "mean:   0%|          | 0/23 [00:00<?, ?it/s]\u001B[A\n",
      "mean:   4%|▍         | 1/23 [00:00<00:15,  1.40it/s]\u001B[A\n",
      "mean:   9%|▊         | 2/23 [00:01<00:12,  1.64it/s]\u001B[A\n",
      "mean:  13%|█▎        | 3/23 [00:01<00:10,  1.96it/s]\u001B[A\n",
      "mean:  17%|█▋        | 4/23 [00:01<00:08,  2.22it/s]\u001B[A\n",
      "mean:  22%|██▏       | 5/23 [00:01<00:07,  2.43it/s]\u001B[A\n",
      "mean:  26%|██▌       | 6/23 [00:02<00:06,  2.79it/s]\u001B[A\n",
      "mean:  30%|███       | 7/23 [00:02<00:05,  3.02it/s]\u001B[A\n",
      "mean:  35%|███▍      | 8/23 [00:02<00:04,  3.28it/s]\u001B[A\n",
      "mean:  39%|███▉      | 9/23 [00:02<00:03,  3.76it/s]\u001B[A\n",
      "mean:  43%|████▎     | 10/23 [00:03<00:03,  3.58it/s]\u001B[A\n",
      "mean:  48%|████▊     | 11/23 [00:03<00:03,  3.61it/s]\u001B[A\n",
      "mean:  52%|█████▏    | 12/23 [00:03<00:03,  3.41it/s]\u001B[A\n",
      "mean:  57%|█████▋    | 13/23 [00:04<00:02,  3.48it/s]\u001B[A\n",
      "mean:  61%|██████    | 14/23 [00:04<00:02,  4.07it/s]\u001B[A\n",
      "mean:  65%|██████▌   | 15/23 [00:04<00:02,  3.87it/s]\u001B[A\n",
      "mean:  70%|██████▉   | 16/23 [00:04<00:01,  3.59it/s]\u001B[A\n",
      "mean:  74%|███████▍  | 17/23 [00:05<00:01,  3.73it/s]\u001B[A\n",
      "mean:  78%|███████▊  | 18/23 [00:05<00:01,  3.84it/s]\u001B[A\n",
      "mean:  83%|████████▎ | 19/23 [00:05<00:01,  3.68it/s]\u001B[A\n",
      "mean:  87%|████████▋ | 20/23 [00:05<00:00,  4.45it/s]\u001B[A\n",
      "mean:  91%|█████████▏| 21/23 [00:06<00:00,  3.90it/s]\u001B[A\n",
      "mean:  96%|█████████▌| 22/23 [00:06<00:00,  3.48it/s]\u001B[A\n",
      "mean: 100%|██████████| 23/23 [00:06<00:00,  3.43it/s]\u001B[A\n",
      "\n",
      "var:   0%|          | 0/23 [00:00<?, ?it/s]\u001B[A\n",
      "var:  22%|██▏       | 5/23 [00:00<00:00, 43.22it/s]\u001B[A\n",
      "var:  43%|████▎     | 10/23 [00:00<00:00, 44.18it/s]\u001B[A\n",
      "var:  65%|██████▌   | 15/23 [00:00<00:00, 43.32it/s]\u001B[A\n",
      "var: 100%|██████████| 23/23 [00:00<00:00, 44.21it/s]\u001B[A\n"
     ]
    },
    {
     "data": {
      "text/plain": "(tensor([0.7612, 0.7799, 0.7574]), tensor([0.2567, 0.2272, 0.2418]))"
     },
     "execution_count": 10,
     "metadata": {},
     "output_type": "execute_result"
    }
   ],
   "source": [
    "enc, train_data, cv_data, test_data = load_leaves(.01)\n",
    "get_mean_std(cv_data)"
   ],
   "metadata": {
    "collapsed": false,
    "pycharm": {
     "name": "#%%\n"
    }
   }
  },
  {
   "cell_type": "code",
   "execution_count": 34,
   "outputs": [
    {
     "name": "stdout",
     "output_type": "stream",
     "text": [
      "True\n",
      "False\n",
      "False\n",
      "False\n",
      "False\n",
      "True\n",
      "False\n",
      "False\n",
      "False\n",
      "False\n"
     ]
    }
   ],
   "source": [],
   "metadata": {
    "collapsed": false,
    "pycharm": {
     "name": "#%%\n"
    }
   }
  },
  {
   "cell_type": "code",
   "execution_count": null,
   "outputs": [],
   "source": [],
   "metadata": {
    "collapsed": false,
    "pycharm": {
     "name": "#%%\n"
    }
   }
  }
 ],
 "metadata": {
  "kernelspec": {
   "display_name": "Python 3",
   "language": "python",
   "name": "python3"
  },
  "language_info": {
   "codemirror_mode": {
    "name": "ipython",
    "version": 2
   },
   "file_extension": ".py",
   "mimetype": "text/x-python",
   "name": "python",
   "nbconvert_exporter": "python",
   "pygments_lexer": "ipython2",
   "version": "2.7.6"
  }
 },
 "nbformat": 4,
 "nbformat_minor": 0
}