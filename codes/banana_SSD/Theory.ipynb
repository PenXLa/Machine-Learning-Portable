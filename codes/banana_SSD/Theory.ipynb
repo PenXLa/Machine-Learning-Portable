{
 "cells": [
  {
   "cell_type": "markdown",
   "metadata": {
    "collapsed": true,
    "pycharm": {
     "name": "#%% md\n"
    }
   },
   "source": [
    "# 使用 SSD 进行 Banana 数据集的目标检测"
   ],
   "outputs": [],
   "execution_count": 1
  },
  {
   "cell_type": "code",
   "execution_count": 64,
   "outputs": [],
   "source": [
    "import torch as pt\n",
    "from torch import nn\n",
    "import math\n",
    "import d2l.torch as d2l\n",
    "import matplotlib.pyplot as plt"
   ],
   "metadata": {
    "collapsed": false,
    "pycharm": {
     "name": "#%%\n"
    }
   }
  },
  {
   "cell_type": "markdown",
   "source": [
    "## 基础工作"
   ],
   "metadata": {
    "collapsed": false,
    "pycharm": {
     "name": "#%% md\n"
    }
   }
  },
  {
   "cell_type": "code",
   "execution_count": 65,
   "outputs": [],
   "source": [
    "# 给出图像大小，为图片生成锚框\n",
    "# 在图片的【每个像素】都生成【若干个】【不同尺寸】的锚框\n",
    "# 尺寸由 sizes 和 ratios 参数决定\n",
    "# sizes 定义了锚框面积占图片面积的比例\n",
    "# ratios 定义了锚框的长宽比。若ratio=1，则锚框为正方形\n",
    "# 返回 [batch_size][imgh*imgw*锚框数][4]\n",
    "def multibox_prior(batch_size, img_h, img_w, sizes, ratios):\n",
    "    sizes = pt.tensor(sizes)\n",
    "    ratios = pt.tensor(ratios)\n",
    "    w = pt.sqrt(pt.cat([sizes * ratios[0], sizes[0] * ratios[1:]]) * img_h / img_w) / 2\n",
    "    h = pt.sqrt(pt.cat([sizes / ratios[0], sizes[0] / ratios[1:]]) * img_w / img_h) / 2\n",
    "    pos = pt.stack([-w, -h, w, h], dim=1).repeat((img_h*img_w, 1))\n",
    "\n",
    "    px = pt.arange(0, img_w) + 0.5\n",
    "    py = pt.arange(0, img_h) + 0.5\n",
    "    py, px = pt.meshgrid(py, px)\n",
    "    py = py.reshape(-1) / img_h\n",
    "    px = px.reshape(-1) / img_w\n",
    "    pixels = pt.stack([px, py, px, py], dim=1).repeat_interleave(len(sizes) + len(ratios) - 1, dim=0)\n",
    "    return pt.unsqueeze(pos + pixels, 0).repeat((batch_size, 1, 1))"
   ],
   "metadata": {
    "collapsed": false,
    "pycharm": {
     "name": "#%%\n"
    }
   }
  },
  {
   "cell_type": "code",
   "execution_count": 100,
   "outputs": [
    {
     "data": {
      "text/plain": "tensor([[[-0.3042, -0.6085,  0.3081,  0.6163],\n         [-0.2480, -0.4961,  0.2520,  0.5039],\n         [-0.1748, -0.3496,  0.1787,  0.3575],\n         ...,\n         [ 0.8213,  0.6425,  1.1748,  1.3496],\n         [ 0.5650,  0.5631,  1.4311,  1.4291],\n         [ 0.7815,  0.1301,  1.2146,  1.8621]],\n\n        [[-0.3042, -0.6085,  0.3081,  0.6163],\n         [-0.2480, -0.4961,  0.2520,  0.5039],\n         [-0.1748, -0.3496,  0.1787,  0.3575],\n         ...,\n         [ 0.8213,  0.6425,  1.1748,  1.3496],\n         [ 0.5650,  0.5631,  1.4311,  1.4291],\n         [ 0.7815,  0.1301,  1.2146,  1.8621]]])"
     },
     "execution_count": 100,
     "metadata": {},
     "output_type": "execute_result"
    }
   ],
   "source": [
    "anchors = multibox_prior(2, 128, 256, [.75, .5, .25], [1., 2, .5])\n",
    "anchors"
   ],
   "metadata": {
    "collapsed": false,
    "pycharm": {
     "name": "#%%\n"
    }
   }
  },
  {
   "cell_type": "code",
   "execution_count": 101,
   "outputs": [
    {
     "data": {
      "text/plain": "tensor([[-0.3042, -0.6085,  0.3081,  0.6163],\n        [-0.2480, -0.4961,  0.2520,  0.5039],\n        [-0.1748, -0.3496,  0.1787,  0.3575],\n        [-0.4311, -0.4291,  0.4350,  0.4369],\n        [-0.2146, -0.8621,  0.2185,  0.8699]])"
     },
     "execution_count": 101,
     "metadata": {},
     "output_type": "execute_result"
    }
   ],
   "source": [
    "anchors = anchors.reshape(-1, 128, 256, 5, 4) #5是一个像素的anchor数量\n",
    "anchors[0,0,0,:,:]"
   ],
   "metadata": {
    "collapsed": false,
    "pycharm": {
     "name": "#%%\n"
    }
   }
  },
  {
   "cell_type": "code",
   "execution_count": 113,
   "outputs": [],
   "source": [
    "# img是图像张量，[通道][height][width]\n",
    "def show_bboxes(img, bboxes):\n",
    "    img_h = img.shape[-2]\n",
    "    img_w = img.shape[-1]\n",
    "    fig, ax = plt.subplots()\n",
    "    ax.imshow(img.permute(1, 2, 0))\n",
    "    for i, bbox in enumerate(bboxes):\n",
    "        bbox2 = bbox * pt.tensor([img_w, img_h, img_w, img_h])\n",
    "        rect = plt.Rectangle(xy=(bbox2[0], bbox2[1]), width=bbox2[2]-bbox2[0], height=bbox2[3]-bbox2[1],\n",
    "                             fill=False, edgecolor='green', linewidth=2)\n",
    "        ax.add_patch(rect)\n",
    "        ax.text(rect.xy[0], rect.xy[1], i,\n",
    "                  va='top', ha='left', fontsize=9, color='k',\n",
    "                  bbox=dict(facecolor='w', lw=0))"
   ],
   "metadata": {
    "collapsed": false,
    "pycharm": {
     "name": "#%%\n"
    }
   }
  },
  {
   "cell_type": "code",
   "execution_count": 114,
   "outputs": [
    {
     "data": {
      "text/plain": "<Figure size 432x288 with 1 Axes>",
      "image/png": "[encoded data removed]"
     },
     "metadata": {
      "needs_background": "light"
     },
     "output_type": "display_data"
    }
   ],
   "source": [
    "show_bboxes(pt.zeros(3, 128, 256), anchors[0, 64, 128, :, :])"
   ],
   "metadata": {
    "collapsed": false,
    "pycharm": {
     "name": "#%%\n"
    }
   }
  },
  {
   "cell_type": "code",
   "execution_count": 103,
   "outputs": [],
   "source": [
    "# 计算两个锚框组的iou\n",
    "# boxes1：[batch][4]\n",
    "# 返回 [x in boxes1][y in boxes2]表示x和y的iou\n",
    "def box_iou(boxes1, boxes2):\n",
    "    box_area = lambda b: (b[:,2]-b[:,0])*(b[:,3]-b[:,1])\n",
    "    area1 = box_area(boxes1)\n",
    "    area2 = box_area(boxes2)\n",
    "    lts = pt.max(boxes1[:, None, :2], boxes2[None, :, :2])\n",
    "    rbs = pt.min(boxes1[:, None, 2:], boxes2[None, :, 2:])\n",
    "    inter_wh = (rbs - lts).clamp(min=0)\n",
    "    inter_area = inter_wh[:,:,0] * inter_wh[:,:,1]\n",
    "    union_area = area1[:, None] + area2[None, :] - inter_area\n",
    "    return inter_area / union_area"
   ],
   "metadata": {
    "collapsed": false,
    "pycharm": {
     "name": "#%%\n"
    }
   }
  },
  {
   "cell_type": "code",
   "execution_count": 121,
   "outputs": [
    {
     "data": {
      "text/plain": "torch.return_types.max(\nvalues=tensor([0.9749, 0.9693, 0.9570]),\nindices=tensor([0, 1, 2]))"
     },
     "execution_count": 121,
     "metadata": {},
     "output_type": "execute_result"
    }
   ],
   "source": [
    "iou = box_iou(anchors[0,0,0,:3,:], anchors[0,1,1,:3,:])\n",
    "iou.max(dim=1)"
   ],
   "metadata": {
    "collapsed": false,
    "pycharm": {
     "name": "#%%\n"
    }
   }
  },
  {
   "cell_type": "markdown",
   "source": [
    "## SSD"
   ],
   "metadata": {
    "collapsed": false,
    "pycharm": {
     "name": "#%% md\n"
    }
   }
  },
  {
   "cell_type": "code",
   "execution_count": 3,
   "outputs": [],
   "source": [
    "# 返回一个卷积层，层的输入是一个多通道特征图，输出是特征图的各个anchor的分类概率。[batch][num_anchors*(num_classes+1)][row][col]\n",
    "def class_pred_layer(in_channels, num_anchors, num_classes):\n",
    "    return nn.Conv2d(in_channels, num_anchors*(num_classes+1), kernel_size=3, padding=1)"
   ],
   "metadata": {
    "collapsed": false,
    "pycharm": {
     "name": "#%%\n"
    }
   }
  },
  {
   "cell_type": "code",
   "execution_count": 4,
   "outputs": [],
   "source": [
    "def offset_pred_layer(in_channels, num_anchors):\n",
    "    return nn.Conv2d(in_channels, num_anchors*4, kernel_size=3, padding=1)"
   ],
   "metadata": {
    "collapsed": false,
    "pycharm": {
     "name": "#%%\n"
    }
   }
  },
  {
   "cell_type": "code",
   "execution_count": 5,
   "outputs": [],
   "source": [
    "Y1 = class_pred_layer(8, 5, 10)(pt.zeros(2, 8, 20, 20))\n",
    "Y2 = offset_pred_layer(16, 5)(pt.zeros(2, 16, 10, 10))"
   ],
   "metadata": {
    "collapsed": false,
    "pycharm": {
     "name": "#%%\n"
    }
   }
  },
  {
   "cell_type": "code",
   "execution_count": 6,
   "outputs": [
    {
     "data": {
      "text/plain": "(torch.Size([2, 55, 20, 20]), torch.Size([2, 20, 10, 10]))"
     },
     "execution_count": 6,
     "metadata": {},
     "output_type": "execute_result"
    }
   ],
   "source": [
    "Y1.shape, Y2.shape"
   ],
   "metadata": {
    "collapsed": false,
    "pycharm": {
     "name": "#%%\n"
    }
   }
  },
  {
   "cell_type": "code",
   "execution_count": 7,
   "outputs": [],
   "source": [
    "# 将预测展平\n",
    "def flatten_pred(pred:pt.Tensor):\n",
    "    return pred.permute(0, 2, 3, 1).flatten(start_dim=1)\n",
    "# 将预测拼接起来\n",
    "def concat_preds(preds):\n",
    "    return pt.cat([flatten_pred(pred) for pred in preds], dim=1)"
   ],
   "metadata": {
    "collapsed": false,
    "pycharm": {
     "name": "#%%\n"
    }
   }
  },
  {
   "cell_type": "code",
   "execution_count": 8,
   "outputs": [
    {
     "data": {
      "text/plain": "torch.Size([2, 24000])"
     },
     "execution_count": 8,
     "metadata": {},
     "output_type": "execute_result"
    }
   ],
   "source": [
    "concat_preds([Y1, Y2]).shape"
   ],
   "metadata": {
    "collapsed": false,
    "pycharm": {
     "name": "#%%\n"
    }
   }
  },
  {
   "cell_type": "code",
   "execution_count": 9,
   "outputs": [],
   "source": [
    "# 高宽减半层，可以减小特征图尺寸，增大感受野\n",
    "def down_sample_blk(in_channels, out_channels):\n",
    "    layers = []\n",
    "    for _ in range(2):\n",
    "        layers.append(nn.Conv2d(in_channels, out_channels, kernel_size=3, padding=1))\n",
    "        layers.append(nn.BatchNorm2d(out_channels))\n",
    "        layers.append(nn.ReLU())\n",
    "        in_channels = out_channels\n",
    "    layers.append(nn.MaxPool2d(2))\n",
    "    return nn.Sequential(*layers)"
   ],
   "metadata": {
    "collapsed": false,
    "pycharm": {
     "name": "#%%\n"
    }
   }
  },
  {
   "cell_type": "code",
   "execution_count": 10,
   "outputs": [
    {
     "data": {
      "text/plain": "torch.Size([2, 6, 9, 9])"
     },
     "execution_count": 10,
     "metadata": {},
     "output_type": "execute_result"
    }
   ],
   "source": [
    "down_sample_blk(3, 6)(pt.zeros(2, 3, 19, 19)).shape"
   ],
   "metadata": {
    "collapsed": false,
    "pycharm": {
     "name": "#%%\n"
    }
   }
  },
  {
   "cell_type": "code",
   "execution_count": 11,
   "outputs": [],
   "source": [
    "# 基础网络，用于提取原始图像的特征\n",
    "# 串联3个高宽减半层，每次通道翻倍\n",
    "def base_net():\n",
    "    num_channels = [3, 16, 32, 64]\n",
    "    layers = []\n",
    "    for i in range(len(num_channels)-1):\n",
    "        layers.append(down_sample_blk(num_channels[i], num_channels[i+1]))\n",
    "    return nn.Sequential(*layers)"
   ],
   "metadata": {
    "collapsed": false,
    "pycharm": {
     "name": "#%%\n"
    }
   }
  },
  {
   "cell_type": "code",
   "execution_count": 12,
   "outputs": [
    {
     "data": {
      "text/plain": "torch.Size([2, 64, 32, 32])"
     },
     "execution_count": 12,
     "metadata": {},
     "output_type": "execute_result"
    }
   ],
   "source": [
    "base_net()(pt.zeros(2, 3, 256,256)).shape"
   ],
   "metadata": {
    "collapsed": false,
    "pycharm": {
     "name": "#%%\n"
    }
   }
  },
  {
   "cell_type": "code",
   "execution_count": null,
   "outputs": [],
   "source": [
    "# 将ground_truth分配给锚框\n",
    "# 返回结果 x[i] 表示第 i 个锚框对应的ground truth下标\n",
    "def assign_gt_to_anchor(ground_truth, anchors, iou_threshold=0.5):\n",
    "    iou = box_iou()"
   ],
   "metadata": {
    "collapsed": false,
    "pycharm": {
     "name": "#%%\n"
    }
   }
  }
 ],
 "metadata": {
  "kernelspec": {
   "display_name": "Python 3",
   "language": "python",
   "name": "python3"
  },
  "language_info": {
   "codemirror_mode": {
    "name": "ipython",
    "version": 2
   },
   "file_extension": ".py",
   "mimetype": "text/x-python",
   "name": "python",
   "nbconvert_exporter": "python",
   "pygments_lexer": "ipython2",
   "version": "2.7.6"
  }
 },
 "nbformat": 4,
 "nbformat_minor": 0
}