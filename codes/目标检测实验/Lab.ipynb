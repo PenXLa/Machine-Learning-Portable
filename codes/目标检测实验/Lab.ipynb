{
 "cells": [
  {
   "cell_type": "code",
   "execution_count": 3,
   "metadata": {
    "collapsed": true
   },
   "outputs": [],
   "source": [
    "import torch as pt\n",
    "from d2l import torch as d2l\n",
    "\n",
    "pt.set_printoptions(2)  # 精简打印精度"
   ]
  },
  {
   "cell_type": "markdown",
   "source": [
    "## 生成多个锚框"
   ],
   "metadata": {
    "collapsed": false
   }
  },
  {
   "cell_type": "code",
   "execution_count": 4,
   "outputs": [],
   "source": [
    "# 待锚框的图像张量，最后两个维度是高和宽\n",
    "# sizes：各种样式锚框的大小，即框的边占原图边的比例\n",
    "# ratios：各种锚框的变形比例。为1时，锚框和原图长宽比例相同\n",
    "def multibox_prior(imgs:pt.Tensor, sizes, ratios):\n",
    "    in_h, in_w = imgs.shape[-2:]\n",
    "    boxes_per_pixel = len(sizes) + len(ratios) - 1\n",
    "    sizes = pt.tensor(sizes, device=imgs.device)\n",
    "    ratios = pt.tensor(ratios, device=imgs.device)\n",
    "\n",
    "    cen_h = (pt.arange(in_h, device=imgs.device)+.5) / in_h\n",
    "    cen_w = (pt.arange(in_w, device=imgs.device)+.5) / in_w\n",
    "    pixels_y, pixels_x = pt.meshgrid(cen_h, cen_w)\n",
    "    pixels_y = pixels_y.reshape(-1)\n",
    "    pixels_x = pixels_x.reshape(-1)\n",
    "\n",
    "    w = pt.cat([(sizes * pt.sqrt(ratios[0])), (sizes[0] * pt.sqrt(ratios[1:]))]) * in_w\n",
    "    h = pt.cat([(sizes / pt.sqrt(ratios[0])), (sizes[0] / pt.sqrt(ratios[1:]))]) * in_h\n",
    "\n",
    "    boxes = pt.stack([-w, -h, w, h], dim=1).repeat(in_w*in_h, 1) / 2\n",
    "    pixels = pt.stack([pixels_x, pixels_y, pixels_x, pixels_y], dim=1).repeat_interleave(boxes_per_pixel, dim=0)\n",
    "    boxes += pixels\n",
    "    return boxes.unsqueeze(0)"
   ],
   "metadata": {
    "collapsed": false,
    "pycharm": {
     "name": "#%%\n"
    }
   }
  },
  {
   "cell_type": "code",
   "execution_count": 5,
   "outputs": [
    {
     "data": {
      "text/plain": "torch.Size([1, 2042040, 4])"
     },
     "execution_count": 5,
     "metadata": {},
     "output_type": "execute_result"
    }
   ],
   "source": [
    "X = pt.rand(size=(2, 3, 561, 728))\n",
    "Y = multibox_prior(X, sizes=[0.75, 0.5, 0.25], ratios=[1, 2, 0.5])\n",
    "Y.shape"
   ],
   "metadata": {
    "collapsed": false,
    "pycharm": {
     "name": "#%%\n"
    }
   }
  },
  {
   "cell_type": "code",
   "execution_count": 17,
   "outputs": [],
   "source": [
    "boxes = Y.reshape(561, 728, -1, 4)"
   ],
   "metadata": {
    "collapsed": false,
    "pycharm": {
     "name": "#%%\n"
    }
   }
  },
  {
   "cell_type": "code",
   "execution_count": 18,
   "outputs": [],
   "source": [
    "boxes = boxes[250, 250]"
   ],
   "metadata": {
    "collapsed": false,
    "pycharm": {
     "name": "#%%\n"
    }
   }
  },
  {
   "cell_type": "code",
   "execution_count": 19,
   "outputs": [
    {
     "data": {
      "text/plain": "tensor([273.34, 182.34,  91.34, 386.42, 193.38])"
     },
     "execution_count": 19,
     "metadata": {},
     "output_type": "execute_result"
    }
   ],
   "source": [
    "boxes[:,2]"
   ],
   "metadata": {
    "collapsed": false,
    "pycharm": {
     "name": "#%%\n"
    }
   }
  },
  {
   "cell_type": "code",
   "execution_count": 29,
   "outputs": [
    {
     "data": {
      "text/plain": "torch.Size([5, 2])"
     },
     "execution_count": 29,
     "metadata": {},
     "output_type": "execute_result"
    }
   ],
   "source": [
    "pt.max(boxes[:,:2], boxes[:, :2]).shape"
   ],
   "metadata": {
    "collapsed": false,
    "pycharm": {
     "name": "#%%\n"
    }
   }
  },
  {
   "cell_type": "code",
   "execution_count": 26,
   "outputs": [
    {
     "data": {
      "text/plain": "tensor([[2, 2],\n        [3, 3]])"
     },
     "execution_count": 26,
     "metadata": {},
     "output_type": "execute_result"
    }
   ],
   "source": [
    "pt.tensor([[1,2],[3,4]]).clamp(2, 3)"
   ],
   "metadata": {
    "collapsed": false,
    "pycharm": {
     "name": "#%%\n"
    }
   }
  },
  {
   "cell_type": "code",
   "execution_count": null,
   "outputs": [],
   "source": [],
   "metadata": {
    "collapsed": false,
    "pycharm": {
     "name": "#%%\n"
    }
   }
  }
 ],
 "metadata": {
  "kernelspec": {
   "display_name": "Python 3",
   "language": "python",
   "name": "python3"
  },
  "language_info": {
   "codemirror_mode": {
    "name": "ipython",
    "version": 2
   },
   "file_extension": ".py",
   "mimetype": "text/x-python",
   "name": "python",
   "nbconvert_exporter": "python",
   "pygments_lexer": "ipython2",
   "version": "2.7.6"
  }
 },
 "nbformat": 4,
 "nbformat_minor": 0
}